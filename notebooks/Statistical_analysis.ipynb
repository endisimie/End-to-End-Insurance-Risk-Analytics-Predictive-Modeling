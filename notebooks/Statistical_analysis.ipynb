{
 "cells": [
  {
   "cell_type": "markdown",
   "id": "ca13ee10",
   "metadata": {},
   "source": [
    "Load Independencies"
   ]
  },
  {
   "cell_type": "code",
   "execution_count": 3,
   "id": "365b90df",
   "metadata": {},
   "outputs": [],
   "source": [
    "import pandas as pd\n",
    "import numpy as np\n",
    "from scipy import stats\n",
    "from scipy.stats import chi2_contingency, f_oneway, kruskal, ttest_ind\n",
    "import warnings\n",
    "\n",
    "# Suppress warnings for cleaner output\n",
    "warnings.filterwarnings('ignore')"
   ]
  },
  {
   "cell_type": "markdown",
   "id": "6ba9b70e",
   "metadata": {},
   "source": [
    "Load CSV Dataset"
   ]
  },
  {
   "cell_type": "code",
   "execution_count": 4,
   "id": "218e8bc7",
   "metadata": {},
   "outputs": [],
   "source": [
    "# Load the data\n",
    "df = pd.read_csv('../data/MachineLearningRating_v3.csv')"
   ]
  },
  {
   "cell_type": "markdown",
   "id": "c6c0c34b",
   "metadata": {},
   "source": [
    "Data preproccessing"
   ]
  },
  {
   "cell_type": "code",
   "execution_count": 5,
   "id": "510a2b20",
   "metadata": {},
   "outputs": [],
   "source": [
    "# Preprocessing\n",
    "df['ClaimOccurred'] = df['TotalClaims'] > 0\n",
    "df['Margin'] = df['TotalPremium'] - df['TotalClaims']\n",
    "\n",
    "# Clean and convert PostalCode to string\n",
    "df['PostalCode'] = df['PostalCode'].astype(str).str.split('.').str[0].str.strip()\n",
    "\n",
    "# Filter valid genders for H4\n",
    "gender_df = df[df['Gender'].isin(['Male', 'Female'])]\n",
    "\n",
    "# Initialize results storage\n",
    "results = []"
   ]
  },
  {
   "cell_type": "markdown",
   "id": "0cfc4cad",
   "metadata": {},
   "source": [
    "\n",
    "Hypothesis 1: Risk differences across provinces"
   ]
  },
  {
   "cell_type": "code",
   "execution_count": 6,
   "id": "ef9cf15b",
   "metadata": {},
   "outputs": [
    {
     "name": "stdout",
     "output_type": "stream",
     "text": [
      "Hypothesis 1: Risk differences across provinces\n",
      "Claim Frequency (Provinces): p-value = 0.000000\n",
      "Claim Severity (Provinces): p-value = 0.000000\n",
      "Margin (Provinces): p-value = 0.000000\n",
      "\n",
      "================================================================================\n",
      "\n"
     ]
    }
   ],
   "source": [
    "print(\"Hypothesis 1: Risk differences across provinces\")\n",
    "# Claim Frequency\n",
    "freq_table = pd.crosstab(df['Province'], df['ClaimOccurred'])\n",
    "chi2, p_freq_prov, dof, _ = chi2_contingency(freq_table)\n",
    "results.append(('H1: Claim Frequency (Provinces)', p_freq_prov))\n",
    "print(f\"Claim Frequency (Provinces): p-value = {p_freq_prov:.6f}\")\n",
    "\n",
    "# Claim Severity\n",
    "severity_groups = [group['TotalClaims'].values \n",
    "                  for name, group in df[df['ClaimOccurred']].groupby('Province') \n",
    "                  if len(group) >= 3]  # Require min 3 claims\n",
    "if len(severity_groups) >= 3:  # Require at least 3 groups for Kruskal-Wallis\n",
    "    h_stat, p_sev_prov = kruskal(*severity_groups)\n",
    "    results.append(('H1: Claim Severity (Provinces)', p_sev_prov))\n",
    "    print(f\"Claim Severity (Provinces): p-value = {p_sev_prov:.6f}\")\n",
    "else:\n",
    "    print(\"Insufficient data for Claim Severity test across provinces\")\n",
    "\n",
    "# Margin differences\n",
    "margin_groups = [group['Margin'].values \n",
    "                for name, group in df.groupby('Province') \n",
    "                if len(group) >= 3]  # Require min 3 policies\n",
    "if len(margin_groups) >= 3:\n",
    "    h_stat, p_margin_prov = kruskal(*margin_groups)\n",
    "    results.append(('H1: Margin (Provinces)', p_margin_prov))\n",
    "    print(f\"Margin (Provinces): p-value = {p_margin_prov:.6f}\")\n",
    "else:\n",
    "    print(\"Insufficient data for Margin test across provinces\")\n",
    "\n",
    "print(\"\\n\" + \"=\"*80 + \"\\n\")"
   ]
  },
  {
   "cell_type": "markdown",
   "id": "5e04429a",
   "metadata": {},
   "source": [
    "Hypothesis 2: Risk differences between zip codes"
   ]
  },
  {
   "cell_type": "code",
   "execution_count": 7,
   "id": "2ab41764",
   "metadata": {},
   "outputs": [
    {
     "name": "stdout",
     "output_type": "stream",
     "text": [
      "Hypothesis 2: Risk differences between zip codes\n",
      "Claim Frequency (Zip Codes): p-value = 0.000000\n",
      "Claim Severity (Zip Codes): p-value = 0.000000\n",
      "\n",
      "================================================================================\n",
      "\n"
     ]
    }
   ],
   "source": [
    "# Hypothesis 2: Risk differences between zip codes\n",
    "print(\"Hypothesis 2: Risk differences between zip codes\")\n",
    "# Filter zip codes with sufficient data (at least 5 policies each)\n",
    "valid_zips = df['PostalCode'].value_counts()\n",
    "valid_zips = valid_zips[valid_zips >= 5].index.tolist()\n",
    "zip_filtered = df[df['PostalCode'].isin(valid_zips)]\n",
    "\n",
    "if len(valid_zips) >= 2:\n",
    "    # Claim Frequency\n",
    "    freq_table_zip = pd.crosstab(zip_filtered['PostalCode'], zip_filtered['ClaimOccurred'])\n",
    "    if freq_table_zip.size > 0:\n",
    "        chi2, p_freq_zip, dof, _ = chi2_contingency(freq_table_zip)\n",
    "        results.append(('H2: Claim Frequency (Zip Codes)', p_freq_zip))\n",
    "        print(f\"Claim Frequency (Zip Codes): p-value = {p_freq_zip:.6f}\")\n",
    "    \n",
    "    # Claim Severity\n",
    "    severity_zip = [group['TotalClaims'].values \n",
    "                   for name, group in zip_filtered[zip_filtered['ClaimOccurred']].groupby('PostalCode')\n",
    "                   if len(group) >= 3]  # Require min 3 claims\n",
    "    if len(severity_zip) >= 2:\n",
    "        h_stat, p_sev_zip = kruskal(*severity_zip)\n",
    "        results.append(('H2: Claim Severity (Zip Codes)', p_sev_zip))\n",
    "        print(f\"Claim Severity (Zip Codes): p-value = {p_sev_zip:.6f}\")\n",
    "    else:\n",
    "        print(\"Insufficient data for Claim Severity test across zip codes\")\n",
    "else:\n",
    "    print(\"Insufficient data for Zip Code tests\")\n",
    "\n",
    "print(\"\\n\" + \"=\"*80 + \"\\n\")"
   ]
  },
  {
   "cell_type": "markdown",
   "id": "67c394a0",
   "metadata": {},
   "source": [
    "Hypothesis 3: Margin differences between zip codes"
   ]
  },
  {
   "cell_type": "code",
   "execution_count": 8,
   "id": "a83b6ddb",
   "metadata": {},
   "outputs": [
    {
     "name": "stdout",
     "output_type": "stream",
     "text": [
      "Hypothesis 3: Margin differences between zip codes\n",
      "Margin (Zip Codes): p-value = nan\n",
      "\n",
      "================================================================================\n",
      "\n"
     ]
    }
   ],
   "source": [
    "# Hypothesis 3: Margin differences between zip codes\n",
    "print(\"Hypothesis 3: Margin differences between zip codes\")\n",
    "if len(valid_zips) >= 2:\n",
    "    margin_zip = [group['Margin'].values \n",
    "                 for name, group in zip_filtered.groupby('PostalCode') \n",
    "                 if len(group) >= 3]  # Require min 3 policies\n",
    "    if len(margin_zip) >= 2:\n",
    "        h_stat, p_margin_zip = kruskal(*margin_zip)\n",
    "        results.append(('H3: Margin (Zip Codes)', p_margin_zip))\n",
    "        print(f\"Margin (Zip Codes): p-value = {p_margin_zip:.6f}\")\n",
    "    else:\n",
    "        print(\"Insufficient data for Margin test across zip codes\")\n",
    "else:\n",
    "    print(\"Insufficient data for Margin test across zip codes\")\n",
    "\n",
    "print(\"\\n\" + \"=\"*80 + \"\\n\")"
   ]
  },
  {
   "cell_type": "markdown",
   "id": "fc39c2be",
   "metadata": {},
   "source": [
    "Hypothesis 4: Risk differences between genders"
   ]
  },
  {
   "cell_type": "code",
   "execution_count": 9,
   "id": "df1b99d2",
   "metadata": {},
   "outputs": [
    {
     "name": "stdout",
     "output_type": "stream",
     "text": [
      "Hypothesis 4: Risk differences between genders\n",
      "Claim Frequency (Gender): p-value = 0.951464\n",
      "Claim Severity (Gender): p-value = 0.676016\n",
      "\n",
      "================================================================================\n",
      "\n"
     ]
    }
   ],
   "source": [
    "print(\"Hypothesis 4: Risk differences between genders\")\n",
    "# Claim Frequency\n",
    "freq_table_gender = pd.crosstab(gender_df['Gender'], gender_df['ClaimOccurred'])\n",
    "if freq_table_gender.size > 0:\n",
    "    chi2, p_freq_gender, dof, _ = chi2_contingency(freq_table_gender)\n",
    "    results.append(('H4: Claim Frequency (Gender)', p_freq_gender))\n",
    "    print(f\"Claim Frequency (Gender): p-value = {p_freq_gender:.6f}\")\n",
    "\n",
    "# Claim Severity\n",
    "male_claims = gender_df[(gender_df['Gender'] == 'Male') & gender_df['ClaimOccurred']]['TotalClaims']\n",
    "female_claims = gender_df[(gender_df['Gender'] == 'Female') & gender_df['ClaimOccurred']]['TotalClaims']\n",
    "\n",
    "if len(male_claims) >= 3 and len(female_claims) >= 3:\n",
    "    # Check variance equality for t-test\n",
    "    _, p_var = stats.levene(male_claims, female_claims)\n",
    "    if p_var > 0.05:  # Equal variances\n",
    "        t_stat, p_sev_gender = ttest_ind(male_claims, female_claims)\n",
    "    else:  # Unequal variances\n",
    "        t_stat, p_sev_gender = ttest_ind(male_claims, female_claims, equal_var=False)\n",
    "    results.append(('H4: Claim Severity (Gender)', p_sev_gender))\n",
    "    print(f\"Claim Severity (Gender): p-value = {p_sev_gender:.6f}\")\n",
    "else:\n",
    "    print(\"Insufficient data for Claim Severity test by gender\")\n",
    "\n",
    "print(\"\\n\" + \"=\"*80 + \"\\n\")"
   ]
  },
  {
   "cell_type": "code",
   "execution_count": 10,
   "id": "33472eb9",
   "metadata": {},
   "outputs": [
    {
     "name": "stdout",
     "output_type": "stream",
     "text": [
      "Hypothesis Test Results:\n",
      "================================================================================\n",
      "H1: Claim Frequency (Provinces):\n",
      "- p-value = 0.000000\n",
      "- Conclusion: REJECT NULL HYPOTHESIS\n",
      "- Interpretation: Strong evidence of significant difference\n",
      "--------------------------------------------------------------------------------\n",
      "H1: Claim Severity (Provinces):\n",
      "- p-value = 0.000000\n",
      "- Conclusion: REJECT NULL HYPOTHESIS\n",
      "- Interpretation: Strong evidence of significant difference\n",
      "--------------------------------------------------------------------------------\n",
      "H1: Margin (Provinces):\n",
      "- p-value = 0.000000\n",
      "- Conclusion: REJECT NULL HYPOTHESIS\n",
      "- Interpretation: Strong evidence of significant difference\n",
      "--------------------------------------------------------------------------------\n",
      "H2: Claim Frequency (Zip Codes):\n",
      "- p-value = 0.000000\n",
      "- Conclusion: REJECT NULL HYPOTHESIS\n",
      "- Interpretation: Strong evidence of significant difference\n",
      "--------------------------------------------------------------------------------\n",
      "H2: Claim Severity (Zip Codes):\n",
      "- p-value = 0.000000\n",
      "- Conclusion: REJECT NULL HYPOTHESIS\n",
      "- Interpretation: Strong evidence of significant difference\n",
      "--------------------------------------------------------------------------------\n",
      "H3: Margin (Zip Codes):\n",
      "- p-value = nan\n",
      "- Conclusion: FAIL TO REJECT NULL HYPOTHESIS\n",
      "- Interpretation: Insufficient evidence of significant difference\n",
      "--------------------------------------------------------------------------------\n",
      "H4: Claim Frequency (Gender):\n",
      "- p-value = 0.951464\n",
      "- Conclusion: FAIL TO REJECT NULL HYPOTHESIS\n",
      "- Interpretation: Insufficient evidence of significant difference\n",
      "--------------------------------------------------------------------------------\n",
      "H4: Claim Severity (Gender):\n",
      "- p-value = 0.676016\n",
      "- Conclusion: FAIL TO REJECT NULL HYPOTHESIS\n",
      "- Interpretation: Insufficient evidence of significant difference\n",
      "--------------------------------------------------------------------------------\n",
      "\n",
      "Business Implications Summary:\n",
      "================================================================================\n",
      "1. Province Differences:\n",
      "   - Risk varies significantly across provinces\n",
      "   - Recommendation: Consider province-based pricing or risk segmentation\n",
      "\n",
      "2. ZIP Code Differences:\n",
      "   - Significant risk and margin variations exist between ZIP codes\n",
      "   - Recommendation: Implement granular geographic pricing strategies\n",
      "\n",
      "3. Gender Differences:\n",
      "   - No significant risk differences between genders\n",
      "   - Recommendation: Gender should not be used as primary risk factor in pricing\n",
      "================================================================================\n"
     ]
    }
   ],
   "source": [
    "# Results interpretation\n",
    "print(\"Hypothesis Test Results:\")\n",
    "print(\"=\" * 80)\n",
    "for test_name, p_value in results:\n",
    "    if p_value < 0.05:\n",
    "        result = \"REJECT NULL HYPOTHESIS\"\n",
    "        evidence = \"Strong evidence of significant difference\"\n",
    "    else:\n",
    "        result = \"FAIL TO REJECT NULL HYPOTHESIS\"\n",
    "        evidence = \"Insufficient evidence of significant difference\"\n",
    "    \n",
    "    print(f\"{test_name}:\")\n",
    "    print(f\"- p-value = {p_value:.6f}\")\n",
    "    print(f\"- Conclusion: {result}\")\n",
    "    print(f\"- Interpretation: {evidence}\")\n",
    "    print(\"-\" * 80)\n",
    "\n",
    "# Business Implications Summary\n",
    "print(\"\\nBusiness Implications Summary:\")\n",
    "print(\"=\" * 80)\n",
    "print(\"1. Province Differences:\")\n",
    "print(\"   - Risk varies significantly across provinces\" if any(\"H1\" in name and p < 0.05 for name, p in results) \n",
    "      else \"   - No significant risk differences across provinces\")\n",
    "print(\"   - Recommendation: Consider province-based pricing or risk segmentation\")\n",
    "\n",
    "print(\"\\n2. ZIP Code Differences:\")\n",
    "print(\"   - Significant risk and margin variations exist between ZIP codes\" if any((\"H2\" in name or \"H3\" in name) and p < 0.05 for name, p in results) \n",
    "      else \"   - ZIP codes show no significant differences in risk or margin\")\n",
    "print(\"   - Recommendation: Implement granular geographic pricing strategies\")\n",
    "\n",
    "print(\"\\n3. Gender Differences:\")\n",
    "print(\"   - Significant risk differences between genders exist\" if any(\"H4\" in name and p < 0.05 for name, p in results) \n",
    "      else \"   - No significant risk differences between genders\")\n",
    "print(\"   - Recommendation: Gender should not be used as primary risk factor in pricing\")\n",
    "print(\"=\" * 80)"
   ]
  },
  {
   "cell_type": "markdown",
   "id": "d4ef594a",
   "metadata": {},
   "source": [
    "Key Features of the Script:\n",
    "Comprehensive Hypothesis Testing:\n",
    "\n",
    "Tests all 4 hypotheses with appropriate statistical methods\n",
    "\n",
    "Uses Chi-square for claim frequency comparisons\n",
    "\n",
    "Uses Kruskal-Wallis for severity/margin comparisons across groups\n",
    "\n",
    "Uses t-tests with Levene's test for variance checking\n",
    "\n",
    "Robust Data Handling:\n",
    "\n",
    "Cleans and preprocesses PostalCode data\n",
    "\n",
    "Filters out small groups (min 3-5 observations) for reliable tests\n",
    "\n",
    "Handles both categorical (frequency) and continuous (severity) data\n",
    "\n",
    "Detailed Reporting:\n",
    "\n",
    "Provides p-values for each test\n",
    "\n",
    "Clearly states statistical conclusions (reject/fail to reject null)\n",
    "\n",
    "Includes business implications and recommendations\n",
    "\n",
    "Formats output for easy readability\n",
    "\n",
    "Statistical Best Practices:\n",
    "\n",
    "Uses non-parametric tests when normality assumptions may be violated\n",
    "\n",
    "Checks variance equality before t-tests\n",
    "\n",
    "Handles edge cases with insufficient data gracefully\n",
    "\n",
    "How to Interpret the Results:\n",
    "p-value < 0.05: Strong evidence against null hypothesis (significant difference exists)\n",
    "\n",
    "p-value ≥ 0.05: Insufficient evidence against null hypothesis (no significant difference found)\n",
    "\n",
    "The script outputs both statistical conclusions and business recommendations based on the findings, providing a complete analysis for segmentation strategy development"
   ]
  }
 ],
 "metadata": {
  "kernelspec": {
   "display_name": ".venv",
   "language": "python",
   "name": "python3"
  },
  "language_info": {
   "codemirror_mode": {
    "name": "ipython",
    "version": 3
   },
   "file_extension": ".py",
   "mimetype": "text/x-python",
   "name": "python",
   "nbconvert_exporter": "python",
   "pygments_lexer": "ipython3",
   "version": "3.12.3"
  }
 },
 "nbformat": 4,
 "nbformat_minor": 5
}
